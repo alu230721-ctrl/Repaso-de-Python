{
  "nbformat": 4,
  "nbformat_minor": 0,
  "metadata": {
    "colab": {
      "provenance": [],
      "authorship_tag": "ABX9TyOvijyrvLaWbePGaZ5cs0JN",
      "include_colab_link": true
    },
    "kernelspec": {
      "name": "python3",
      "display_name": "Python 3"
    },
    "language_info": {
      "name": "python"
    }
  },
  "cells": [
    {
      "cell_type": "markdown",
      "metadata": {
        "id": "view-in-github",
        "colab_type": "text"
      },
      "source": [
        "<a href=\"https://colab.research.google.com/github/alu230721-ctrl/Repaso-de-Python/blob/main/RafaelHA.ipynb\" target=\"_parent\"><img src=\"https://colab.research.google.com/assets/colab-badge.svg\" alt=\"Open In Colab\"/></a>"
      ]
    },
    {
      "cell_type": "markdown",
      "source": [
        "1.- Realizar un programa en python que te permita capturar 3 números enteros e imprima cual de los 3 es el mayor"
      ],
      "metadata": {
        "id": "nD4sKcvU_UPY"
      }
    },
    {
      "cell_type": "code",
      "execution_count": 3,
      "metadata": {
        "colab": {
          "base_uri": "https://localhost:8080/"
        },
        "id": "dlSh0hqD-_Go",
        "outputId": "9307ebc3-d278-4596-8815-006d31002e59"
      },
      "outputs": [
        {
          "output_type": "stream",
          "name": "stdout",
          "text": [
            "Ingresa tus tres numeros\n",
            "Primer numero: 2\n",
            "Segundo numero: 4\n",
            "Tercer numero: 8\n",
            "El numero 8 es el mayor\n"
          ]
        }
      ],
      "source": [
        "print(\"Ingresa tus tres numeros\")\n",
        "num1=int(input(\"Primer numero: \"))\n",
        "num2=int(input(\"Segundo numero: \"))\n",
        "num3=int(input(\"Tercer numero: \"))\n",
        "\n",
        "if num1>num2 and num1>num3:\n",
        "  print(\"El numero\",num1,\"es el mayor\")\n",
        "\n",
        "if num2>num1 and num2>num3:\n",
        "  print(\"El numero\",num2,\"es el mayor\")\n",
        "\n",
        "if num3>num1 and num3>num2:\n",
        "  print(\"El numero\",num3,\"es el mayor\")"
      ]
    },
    {
      "cell_type": "markdown",
      "source": [
        "2.- Realizar un programa en python mediante el cual calcules el total de caracteres que tiene un nombre capturado desde el teclado."
      ],
      "metadata": {
        "id": "G6wA03wx_XB2"
      }
    },
    {
      "cell_type": "code",
      "source": [
        "nombre=input(\"Ingrese un nombre: \")\n",
        "\n",
        "cantidad=len(nombre)\n",
        "\n",
        "print(\"La cantidad de caracteres es:\",cantidad)"
      ],
      "metadata": {
        "colab": {
          "base_uri": "https://localhost:8080/"
        },
        "id": "31qwjVu6_Yqe",
        "outputId": "22f58dbb-f4a3-43d9-b67d-786e0245a7c7"
      },
      "execution_count": 6,
      "outputs": [
        {
          "output_type": "stream",
          "name": "stdout",
          "text": [
            "Ingrese un nombre: Angie\n",
            "La cantidad de caracteres es: 5\n"
          ]
        }
      ]
    },
    {
      "cell_type": "markdown",
      "source": [
        "3.- Realizar un programa en python que permita imprimir los 7 días de la semana."
      ],
      "metadata": {
        "id": "zKSipOaG_ZI-"
      }
    },
    {
      "cell_type": "code",
      "source": [
        "dias_de_semana=[\"Lunes\",\"Martes\",\"Miercoles\",\"Jueves\",\"Viernes\",\"Sabado\",\"Domingo\"]\n",
        "\n",
        "print(\"Los dias de la semana son: \")\n",
        "for d in dias_de_semana:\n",
        "  print(d)"
      ],
      "metadata": {
        "colab": {
          "base_uri": "https://localhost:8080/"
        },
        "id": "Dz8_4Wi-_ayv",
        "outputId": "72bfc601-146f-4754-d479-8cfb86005d85"
      },
      "execution_count": 7,
      "outputs": [
        {
          "output_type": "stream",
          "name": "stdout",
          "text": [
            "Los dias de la semana son: \n",
            "Lunes\n",
            "Martes\n",
            "Miercoles\n",
            "Jueves\n",
            "Viernes\n",
            "Sabado\n",
            "Domingo\n"
          ]
        }
      ]
    }
  ]
}
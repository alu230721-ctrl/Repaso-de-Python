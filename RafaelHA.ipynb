{
  "nbformat": 4,
  "nbformat_minor": 0,
  "metadata": {
    "colab": {
      "provenance": [],
      "authorship_tag": "ABX9TyPGjxDnNu1h3SkEqzSQ/hzD",
      "include_colab_link": true
    },
    "kernelspec": {
      "name": "python3",
      "display_name": "Python 3"
    },
    "language_info": {
      "name": "python"
    }
  },
  "cells": [
    {
      "cell_type": "markdown",
      "metadata": {
        "id": "view-in-github",
        "colab_type": "text"
      },
      "source": [
        "<a href=\"https://colab.research.google.com/github/alu230721-ctrl/Repaso-de-Python/blob/main/RafaelHA.ipynb\" target=\"_parent\"><img src=\"https://colab.research.google.com/assets/colab-badge.svg\" alt=\"Open In Colab\"/></a>"
      ]
    },
    {
      "cell_type": "markdown",
      "source": [],
      "metadata": {
        "id": "ZMyj89pn_OG3"
      }
    },
    {
      "cell_type": "markdown",
      "source": [
        "Realizar un programa que permita capturar tu nombre y lo imprima seguido de una bienvenida"
      ],
      "metadata": {
        "id": "yzMz18ax_PzW"
      }
    },
    {
      "cell_type": "code",
      "source": [
        "nombre=input(\"Escribe tu nombre: \")\n",
        "print(nombre,\"te doy la bienvenida!!\")"
      ],
      "metadata": {
        "colab": {
          "base_uri": "https://localhost:8080/"
        },
        "id": "5v8NZlsP_jGV",
        "outputId": "dd81fc14-0c1a-4ca6-ce54-dd847a9b9236"
      },
      "execution_count": 8,
      "outputs": [
        {
          "output_type": "stream",
          "name": "stdout",
          "text": [
            "Escribe tu nombre: Rafael\n",
            "Rafael te doy la bienvenida!!\n"
          ]
        }
      ]
    },
    {
      "cell_type": "code",
      "execution_count": 1,
      "metadata": {
        "id": "P8VOx72R-6Mp"
      },
      "outputs": [],
      "source": []
    },
    {
      "cell_type": "markdown",
      "source": [
        "Realizar un programa que permita capturar 2 numeros entero eh impirma la suma, la resta, la multiplicacion y la division"
      ],
      "metadata": {
        "id": "kDHaGrcRCn8f"
      }
    },
    {
      "cell_type": "code",
      "source": [
        "num1=float(input(\"Escribe tu primer numero: \"))\n",
        "num2=float(input(\"Escribe tu segundo numero: \"))\n",
        "\n",
        "s=num1+num2;\n",
        "print(\"la suma es:\",s)\n",
        "r=num1-num2;\n",
        "print(\"La resta es:\",r)\n",
        "m=num1*num2;\n",
        "print(\"La multiplicacion es:\",m)\n",
        "d=num1/num2;\n",
        "print(\"La divsion es:\",d)"
      ],
      "metadata": {
        "colab": {
          "base_uri": "https://localhost:8080/"
        },
        "id": "T401jyAZC3xu",
        "outputId": "4fcb0105-51fa-46b2-9f9f-a1efd56f860f"
      },
      "execution_count": 9,
      "outputs": [
        {
          "output_type": "stream",
          "name": "stdout",
          "text": [
            "Escribe tu primer numero: 4\n",
            "Escribe tu segundo numero: 2\n",
            "la suma es: 6.0\n",
            "La resta es: 2.0\n",
            "La multiplicacion es: 8.0\n",
            "La divsion es: 2.0\n"
          ]
        }
      ]
    }
  ]
}